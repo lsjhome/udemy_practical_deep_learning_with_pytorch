{
 "cells": [
  {
   "cell_type": "markdown",
   "metadata": {},
   "source": [
    "# 6. PyTorch를 통한 선형회귀분석"
   ]
  },
  {
   "cell_type": "markdown",
   "metadata": {},
   "source": [
    "# 1. 선형 회귀분석에 대해"
   ]
  },
  {
   "cell_type": "markdown",
   "metadata": {},
   "source": [
    "# 1.1 단순 선형회귀분석 기초"
   ]
  },
  {
   "cell_type": "markdown",
   "metadata": {},
   "source": [
    "- 두가지의 **연속형 변수** 사이의 관계에 대해 이해하게 해 준다.\n",
    "- 예시\n",
    "    - x: 독립 변수\n",
    "        - 무게\n",
    "    - y: 종속 변수\n",
    "        - 키\n",
    "    - y = $\\alpha x + \\beta$"
   ]
  },
  {
   "cell_type": "markdown",
   "metadata": {},
   "source": [
    "## 1.2 단순 선형회귀분석의 예"
   ]
  },
  {
   "cell_type": "code",
   "execution_count": 1,
   "metadata": {},
   "outputs": [
    {
     "data": {
      "image/png": "[encoded data removed]",
      "text/plain": [
       "<Figure size 432x288 with 1 Axes>"
      ]
     },
     "metadata": {},
     "output_type": "display_data"
    }
   ],
   "source": [
    "%matplotlib inline\n",
    "import numpy as np\n",
    "import matplotlib.pyplot as plt\n",
    "\n",
    "np.random.seed(1)\n",
    "n = 50\n",
    "x = np.random.randn(n)\n",
    "y = x * np.random.rand(n)\n",
    "\n",
    "colors = np.random.rand(n)\n",
    "plt.plot(np.unique(x), np.poly1d(np.polyfit(x, y, 1))(np.unique(x)))\n",
    "\n",
    "plt.scatter(x, y, c=colors, alpha=0.5)\n",
    "plt.show()"
   ]
  },
  {
   "cell_type": "markdown",
   "metadata": {},
   "source": [
    "## 1.3 선형 회귀분석의 목적\n",
    "\n",
    "- 포인트들과 선의 사이를 최소화($y = \\alpha x + \\beta$)\n",
    "- 조정하기\n",
    "    - 계수: $\\alpha$\n",
    "    - 편향/절편 : $\\beta$"
   ]
  },
  {
   "cell_type": "markdown",
   "metadata": {},
   "source": [
    "# 2. PyTorch를 통해 선형 회귀 모델 구축하기"
   ]
  },
  {
   "cell_type": "markdown",
   "metadata": {},
   "source": [
    "## 2.1 예"
   ]
  },
  {
   "cell_type": "markdown",
   "metadata": {},
   "source": [
    "- 계수: $\\alpha$ = 2\n",
    "- 편향/절편: $\\beta$ = 1\n",
    "- 식: $y = 2x + 1$"
   ]
  },
  {
   "cell_type": "markdown",
   "metadata": {},
   "source": [
    "## 2.2 토이 데이터셋 생성하기"
   ]
  },
  {
   "cell_type": "code",
   "execution_count": 72,
   "metadata": {},
   "outputs": [],
   "source": [
    "x_values = [i for i in range(11)]"
   ]
  },
  {
   "cell_type": "code",
   "execution_count": 73,
   "metadata": {},
   "outputs": [
    {
     "data": {
      "text/plain": [
       "[0, 1, 2, 3, 4, 5, 6, 7, 8, 9, 10]"
      ]
     },
     "execution_count": 73,
     "metadata": {},
     "output_type": "execute_result"
    }
   ],
   "source": [
    "x_values"
   ]
  },
  {
   "cell_type": "code",
   "execution_count": 74,
   "metadata": {},
   "outputs": [
    {
     "data": {
      "text/plain": [
       "(11,)"
      ]
     },
     "execution_count": 74,
     "metadata": {},
     "output_type": "execute_result"
    }
   ],
   "source": [
    "# numpy로 변환\n",
    "x_train = np.array(x_values, dtype=np.float32)\n",
    "x_train.shape"
   ]
  },
  {
   "cell_type": "code",
   "execution_count": 75,
   "metadata": {},
   "outputs": [
    {
     "data": {
      "text/plain": [
       "(11, 1)"
      ]
     },
     "execution_count": 75,
     "metadata": {},
     "output_type": "execute_result"
    }
   ],
   "source": [
    "# 중요: 2차원이 필요하다\n",
    "x_train = x_train.reshape(-1, 1)\n",
    "x_train.shape"
   ]
  },
  {
   "cell_type": "markdown",
   "metadata": {},
   "source": [
    "$y = 2x + 1$"
   ]
  },
  {
   "cell_type": "code",
   "execution_count": 76,
   "metadata": {},
   "outputs": [
    {
     "data": {
      "text/plain": [
       "array([[ 0.],\n",
       "       [ 1.],\n",
       "       [ 2.],\n",
       "       [ 3.],\n",
       "       [ 4.],\n",
       "       [ 5.],\n",
       "       [ 6.],\n",
       "       [ 7.],\n",
       "       [ 8.],\n",
       "       [ 9.],\n",
       "       [10.]], dtype=float32)"
      ]
     },
     "execution_count": 76,
     "metadata": {},
     "output_type": "execute_result"
    }
   ],
   "source": [
    "x_train"
   ]
  },
  {
   "cell_type": "code",
   "execution_count": 77,
   "metadata": {},
   "outputs": [],
   "source": [
    "y_values = [2*i + 1 for i in x_values]"
   ]
  },
  {
   "cell_type": "code",
   "execution_count": 78,
   "metadata": {},
   "outputs": [
    {
     "data": {
      "text/plain": [
       "[1, 3, 5, 7, 9, 11, 13, 15, 17, 19, 21]"
      ]
     },
     "execution_count": 78,
     "metadata": {},
     "output_type": "execute_result"
    }
   ],
   "source": [
    "y_values"
   ]
  },
  {
   "cell_type": "code",
   "execution_count": 79,
   "metadata": {},
   "outputs": [
    {
     "data": {
      "text/plain": [
       "(11,)"
      ]
     },
     "execution_count": 79,
     "metadata": {},
     "output_type": "execute_result"
    }
   ],
   "source": [
    "y_train = np.array(y_values, dtype=np.float32)\n",
    "y_train.shape"
   ]
  },
  {
   "cell_type": "code",
   "execution_count": 80,
   "metadata": {},
   "outputs": [
    {
     "data": {
      "text/plain": [
       "(11, 1)"
      ]
     },
     "execution_count": 80,
     "metadata": {},
     "output_type": "execute_result"
    }
   ],
   "source": [
    "# 중요: 2차원이 필요하다\n",
    "y_train = y_train.reshape(-1, 1)\n",
    "y_train.shape"
   ]
  },
  {
   "cell_type": "markdown",
   "metadata": {},
   "source": [
    "## 2.3 모델 생성하기"
   ]
  },
  {
   "cell_type": "markdown",
   "metadata": {},
   "source": [
    "### 중요한 선언들"
   ]
  },
  {
   "cell_type": "code",
   "execution_count": 57,
   "metadata": {},
   "outputs": [],
   "source": [
    "import torch\n",
    "import torch.nn as nn\n",
    "from torch.autograd import Variable"
   ]
  },
  {
   "cell_type": "markdown",
   "metadata": {},
   "source": [
    "### 모델 생성하기\n",
    "\n",
    "1. 선형 모델\n",
    "    - True Equation: $y = 2x + 1$\n",
    "2. 포워드\n",
    "    - Example\n",
    "        - Input $x = 1$\n",
    "        - Output $\\hat{y}=?$"
   ]
  },
  {
   "cell_type": "code",
   "execution_count": 58,
   "metadata": {},
   "outputs": [],
   "source": [
    "# class 생성\n",
    "class LinearRegressionModel(nn.Module):\n",
    "    \n",
    "    def __init__(self, input_size, output_size):\n",
    "        super(LinearRegressionModel, self).__init__() # nn.Module을 상속받기 위한 것\n",
    "        self.linear = nn.Linear(input_size, output_size)\n",
    "        \n",
    "    def forward(self, x):\n",
    "        out = self.linear(x)\n",
    "        return out"
   ]
  },
  {
   "cell_type": "markdown",
   "metadata": {},
   "source": [
    "#### 모델 클래스 설명하기\n",
    "- 인풋 : [0, 1, 2, 3, 4, 5, 6, 7, 8, 9, 10]\n",
    "- 바라는 아웃풋 : [1, 3, 5, 7, 9, 11, 13, 15, 17, 19, 21]"
   ]
  },
  {
   "cell_type": "code",
   "execution_count": 59,
   "metadata": {},
   "outputs": [],
   "source": [
    "input_size = 1\n",
    "output_size = 1\n",
    "\n",
    "model = LinearRegressionModel(input_size, output_size)"
   ]
  },
  {
   "cell_type": "markdown",
   "metadata": {},
   "source": [
    "### Loss Class 인스턴스화"
   ]
  },
  {
   "cell_type": "markdown",
   "metadata": {},
   "source": [
    "- MSE Loss : Mean Squared Error\n",
    "- $MSE = \\frac{1}{2}\\sum^{n}_{i=1}(\\hat{y_i} - y_i)$\n",
    "    - $\\hat{y}$: prediction\n",
    "    - $y$: true value"
   ]
  },
  {
   "cell_type": "code",
   "execution_count": 60,
   "metadata": {},
   "outputs": [],
   "source": [
    "criterion = nn.MSELoss()"
   ]
  },
  {
   "cell_type": "markdown",
   "metadata": {},
   "source": [
    "### 최적화 Class 인스턴스화"
   ]
  },
  {
   "cell_type": "markdown",
   "metadata": {},
   "source": [
    "- Simplified equation\n",
    "    - $\\theta = \\theta - \\eta \\cdot \\nabla_{\\theta}$\n",
    "        - $\\theta$: parameters (our variables)\n",
    "        - $\\eta$: learning rate (how fast we want to learn)\n",
    "        - $\\nabla_{\\theta}$: parameters' gradients\n",
    "        \n",
    "    - Even simplier equation\n",
    "        - parameters = parameters - learning_rate * parameters_gradients\n",
    "            - parameters: $\\alpha$ and $\\beta$ in $y = \\alpha x + \\beta$\n",
    "            - desired parameters: $\\alpha = 2$ and $\\beta = 1$ in $y = 2x + 1$"
   ]
  },
  {
   "cell_type": "code",
   "execution_count": 61,
   "metadata": {},
   "outputs": [],
   "source": [
    "learning_rate = 0.01\n",
    "\n",
    "optimizer = torch.optim.SGD(model.parameters(), lr=learning_rate)"
   ]
  },
  {
   "cell_type": "markdown",
   "metadata": {},
   "source": [
    "### 모델 학습시키기\n",
    "- 1 에폭: x 전체 데이터를 한번 다 도는것\n",
    "    - 100 에폭:\n",
    "        - 100x mapping x_train = [0, 1, 2, 3, 4, 5, 6, 7, 8, 9, 10]\n",
    "- Process\n",
    "    1. inputs/labes을 variables로 바꾼다.\n",
    "    2. gradient buffer 들을 비워준다.\n",
    "    3. 인풋에 기반한 아웃풋을 내어 준다.\n",
    "    4. loss를 구한다.\n",
    "    5. 파라미터에 대한 그라디언트들 구하기\n",
    "    6. 그라디언트를 이용하여 파라미터 업데이트\n",
    "        - 파라미터 = 파라미터 - 학습률 * 파라미터 그라디언트\n",
    "    7. 반복"
   ]
  },
  {
   "cell_type": "code",
   "execution_count": 62,
   "metadata": {},
   "outputs": [],
   "source": [
    "epochs = 100"
   ]
  },
  {
   "cell_type": "code",
   "execution_count": 63,
   "metadata": {
    "scrolled": true
   },
   "outputs": [
    {
     "name": "stdout",
     "output_type": "stream",
     "text": [
      "epoch 1, loss 179.47335815429688\n",
      "epoch 2, loss 14.640972137451172\n",
      "epoch 3, loss 1.1960983276367188\n",
      "epoch 4, loss 0.09942218661308289\n",
      "epoch 5, loss 0.009948421269655228\n",
      "epoch 6, loss 0.0026299962773919106\n",
      "epoch 7, loss 0.0020127224270254374\n",
      "epoch 8, loss 0.0019422810291871428\n",
      "epoch 9, loss 0.0019166857236996293\n",
      "epoch 10, loss 0.0018949602963402867\n",
      "epoch 11, loss 0.0018737673526629806\n",
      "epoch 12, loss 0.001852841000072658\n",
      "epoch 13, loss 0.0018321448005735874\n",
      "epoch 14, loss 0.001811694703064859\n",
      "epoch 15, loss 0.0017914618365466595\n",
      "epoch 16, loss 0.0017714510904625058\n",
      "epoch 17, loss 0.0017516856314614415\n",
      "epoch 18, loss 0.0017320991028100252\n",
      "epoch 19, loss 0.0017127792816609144\n",
      "epoch 20, loss 0.001693644793704152\n",
      "epoch 21, loss 0.0016747366171330214\n",
      "epoch 22, loss 0.0016560322837904096\n",
      "epoch 23, loss 0.0016375445993617177\n",
      "epoch 24, loss 0.0016192689072340727\n",
      "epoch 25, loss 0.0016011812258511782\n",
      "epoch 26, loss 0.0015832908684387803\n",
      "epoch 27, loss 0.0015656145988032222\n",
      "epoch 28, loss 0.001548119238577783\n",
      "epoch 29, loss 0.0015308383153751493\n",
      "epoch 30, loss 0.001513735274784267\n",
      "epoch 31, loss 0.0014968429459258914\n",
      "epoch 32, loss 0.0014801257057115436\n",
      "epoch 33, loss 0.0014635984553024173\n",
      "epoch 34, loss 0.0014472712064161897\n",
      "epoch 35, loss 0.0014311004197224975\n",
      "epoch 36, loss 0.0014151007635518909\n",
      "epoch 37, loss 0.0013993139145895839\n",
      "epoch 38, loss 0.001383683760650456\n",
      "epoch 39, loss 0.001368244062177837\n",
      "epoch 40, loss 0.001352971768938005\n",
      "epoch 41, loss 0.0013378566363826394\n",
      "epoch 42, loss 0.001322899479418993\n",
      "epoch 43, loss 0.0013081306824460626\n",
      "epoch 44, loss 0.001293520093895495\n",
      "epoch 45, loss 0.001279073883779347\n",
      "epoch 46, loss 0.0012648091651499271\n",
      "epoch 47, loss 0.0012506697094067931\n",
      "epoch 48, loss 0.0012367102317512035\n",
      "epoch 49, loss 0.0012228976702317595\n",
      "epoch 50, loss 0.001209232141263783\n",
      "epoch 51, loss 0.001195726334117353\n",
      "epoch 52, loss 0.0011823860695585608\n",
      "epoch 53, loss 0.001169192255474627\n",
      "epoch 54, loss 0.001156131038442254\n",
      "epoch 55, loss 0.0011432254686951637\n",
      "epoch 56, loss 0.0011304463259875774\n",
      "epoch 57, loss 0.0011178241111338139\n",
      "epoch 58, loss 0.0011053337948396802\n",
      "epoch 59, loss 0.0010930082062259316\n",
      "epoch 60, loss 0.0010808007791638374\n",
      "epoch 61, loss 0.001068723271600902\n",
      "epoch 62, loss 0.001056801644153893\n",
      "epoch 63, loss 0.0010449937544763088\n",
      "epoch 64, loss 0.0010333332465961576\n",
      "epoch 65, loss 0.001021787989884615\n",
      "epoch 66, loss 0.001010380918160081\n",
      "epoch 67, loss 0.000999084790237248\n",
      "epoch 68, loss 0.0009879376739263535\n",
      "epoch 69, loss 0.0009768992895260453\n",
      "epoch 70, loss 0.000965990184340626\n",
      "epoch 71, loss 0.0009552050614729524\n",
      "epoch 72, loss 0.0009445406030863523\n",
      "epoch 73, loss 0.0009339898824691772\n",
      "epoch 74, loss 0.0009235689067281783\n",
      "epoch 75, loss 0.00091325439279899\n",
      "epoch 76, loss 0.0009030584478750825\n",
      "epoch 77, loss 0.0008929730975069106\n",
      "epoch 78, loss 0.0008830007282085717\n",
      "epoch 79, loss 0.0008731400012038648\n",
      "epoch 80, loss 0.0008633775287307799\n",
      "epoch 81, loss 0.000853745499625802\n",
      "epoch 82, loss 0.0008442109683528543\n",
      "epoch 83, loss 0.0008347851689904928\n",
      "epoch 84, loss 0.0008254533750005066\n",
      "epoch 85, loss 0.0008162425365298986\n",
      "epoch 86, loss 0.0008071368210949004\n",
      "epoch 87, loss 0.000798126682639122\n",
      "epoch 88, loss 0.0007892051944509149\n",
      "epoch 89, loss 0.0007803969201631844\n",
      "epoch 90, loss 0.0007716836989857256\n",
      "epoch 91, loss 0.0007630718755535781\n",
      "epoch 92, loss 0.0007545429980382323\n",
      "epoch 93, loss 0.0007461179047822952\n",
      "epoch 94, loss 0.0007377853034995496\n",
      "epoch 95, loss 0.0007295366958715022\n",
      "epoch 96, loss 0.0007214026409201324\n",
      "epoch 97, loss 0.0007133400649763644\n",
      "epoch 98, loss 0.0007053790614008904\n",
      "epoch 99, loss 0.0006975060096010566\n",
      "epoch 100, loss 0.0006897126440890133\n"
     ]
    }
   ],
   "source": [
    "for epoch in range(1, epochs+1):\n",
    "    \n",
    "    # numpy 배열을 torch 변수로 변환\n",
    "    inputs = Variable(torch.from_numpy(x_train))\n",
    "    labels = Variable(torch.from_numpy(y_train))\n",
    "    \n",
    "    # 파라미터들에 대한 Gradients 비우기\n",
    "    optimizer.zero_grad()\n",
    "    \n",
    "    # output을 내기 위한 Forward\n",
    "    outputs = model(inputs)\n",
    "    \n",
    "    # Loss 계산하기\n",
    "    loss = criterion(outputs, labels)\n",
    "    \n",
    "    \n",
    "    # 파라미터들에 관한 gradients들 얻기\n",
    "    loss.backward()\n",
    "    \n",
    "    \n",
    "    # 파라미터들 업데이트\n",
    "    optimizer.step()\n",
    "    \n",
    "    print (f'epoch {epoch}, loss {loss.item()}')"
   ]
  },
  {
   "cell_type": "markdown",
   "metadata": {},
   "source": [
    "### 데이터 비교하기"
   ]
  },
  {
   "cell_type": "code",
   "execution_count": 64,
   "metadata": {},
   "outputs": [],
   "source": [
    "# 위 두 식은 그 기능이 같다.\n",
    "# model.forward(Variable(torch.from_numpy(x_train))).data.numpy()\n",
    "# model(Variable(torch.from_numpy(x_train))).data.numpy()"
   ]
  },
  {
   "cell_type": "code",
   "execution_count": 65,
   "metadata": {},
   "outputs": [
    {
     "data": {
      "text/plain": [
       "array([[ 1.0488532],\n",
       "       [ 3.041818 ],\n",
       "       [ 5.0347824],\n",
       "       [ 7.027747 ],\n",
       "       [ 9.020712 ],\n",
       "       [11.013677 ],\n",
       "       [13.006641 ],\n",
       "       [14.999606 ],\n",
       "       [16.99257  ],\n",
       "       [18.985537 ],\n",
       "       [20.9785   ]], dtype=float32)"
      ]
     },
     "execution_count": 65,
     "metadata": {},
     "output_type": "execute_result"
    }
   ],
   "source": [
    "# Purely inference\n",
    "predicted = model(Variable(torch.from_numpy(x_train))).data.numpy()\n",
    "predicted"
   ]
  },
  {
   "cell_type": "code",
   "execution_count": 66,
   "metadata": {},
   "outputs": [
    {
     "data": {
      "text/plain": [
       "array([[ 1.],\n",
       "       [ 3.],\n",
       "       [ 5.],\n",
       "       [ 7.],\n",
       "       [ 9.],\n",
       "       [11.],\n",
       "       [13.],\n",
       "       [15.],\n",
       "       [17.],\n",
       "       [19.],\n",
       "       [21.]], dtype=float32)"
      ]
     },
     "execution_count": 66,
     "metadata": {},
     "output_type": "execute_result"
    }
   ],
   "source": [
    "# y = 2x + 1\n",
    "y_train"
   ]
  },
  {
   "cell_type": "markdown",
   "metadata": {},
   "source": [
    "### Plot Graph"
   ]
  },
  {
   "cell_type": "code",
   "execution_count": 67,
   "metadata": {},
   "outputs": [
    {
     "data": {
      "image/png": "[encoded data removed]",
      "text/plain": [
       "<Figure size 432x288 with 1 Axes>"
      ]
     },
     "metadata": {},
     "output_type": "display_data"
    }
   ],
   "source": [
    "# Clear Figure\n",
    "plt.clf()\n",
    "\n",
    "# Get predictions\n",
    "predicted = model(Variable(torch.from_numpy(x_train))).data.numpy()\n",
    "\n",
    "# Plot true data\n",
    "plt.plot(x_train, y_train, 'go', label='True data', alpha=0.5)\n",
    "\n",
    "# Plot predictions\n",
    "plt.plot(x_train, predicted, '--', label='Predictions', alpha=0.5)\n",
    "\n",
    "# Legend and plot\n",
    "plt.legend(loc='best')\n",
    "plt.show()"
   ]
  },
  {
   "cell_type": "markdown",
   "metadata": {},
   "source": [
    "### 모델 저장"
   ]
  },
  {
   "cell_type": "code",
   "execution_count": 69,
   "metadata": {},
   "outputs": [],
   "source": [
    "save_model = False\n",
    "if save_model is True:\n",
    "    # Saves only parameters\n",
    "    # alpha & beta\n",
    "    torch.save(model.state_dict(), 'awesome_model.pkl')"
   ]
  },
  {
   "cell_type": "markdown",
   "metadata": {},
   "source": [
    "### 모델 로드"
   ]
  },
  {
   "cell_type": "code",
   "execution_count": 70,
   "metadata": {},
   "outputs": [],
   "source": [
    "load_model = False\n",
    "if load_model is True:\n",
    "    model.load_state_dict(torch.load('awesome_model.pkl'))"
   ]
  },
  {
   "cell_type": "markdown",
   "metadata": {},
   "source": [
    "# 3. PyTorch (GPU)를 통한 선형회귀 모델 만들기"
   ]
  },
  {
   "cell_type": "code",
   "execution_count": 88,
   "metadata": {},
   "outputs": [
    {
     "name": "stdout",
     "output_type": "stream",
     "text": [
      "epoch 1, loss 142.19232177734375\n",
      "epoch 2, loss 11.605179786682129\n",
      "epoch 3, loss 0.9535170197486877\n",
      "epoch 4, loss 0.08461693674325943\n",
      "epoch 5, loss 0.01366720162332058\n",
      "epoch 6, loss 0.007804561872035265\n",
      "epoch 7, loss 0.007251621689647436\n",
      "epoch 8, loss 0.007132682017982006\n",
      "epoch 9, loss 0.007049898616969585\n",
      "epoch 10, loss 0.006970921065658331\n",
      "epoch 11, loss 0.0068930271081626415\n",
      "epoch 12, loss 0.006816074252128601\n",
      "epoch 13, loss 0.006739972624927759\n",
      "epoch 14, loss 0.006664700340479612\n",
      "epoch 15, loss 0.006590262055397034\n",
      "epoch 16, loss 0.0065166945569217205\n",
      "epoch 17, loss 0.006443887483328581\n",
      "epoch 18, loss 0.006371938157826662\n",
      "epoch 19, loss 0.0063008214347064495\n",
      "epoch 20, loss 0.006230439059436321\n",
      "epoch 21, loss 0.0061608548276126385\n",
      "epoch 22, loss 0.0060920859687030315\n",
      "epoch 23, loss 0.0060240537859499454\n",
      "epoch 24, loss 0.005956783425062895\n",
      "epoch 25, loss 0.005890266504138708\n",
      "epoch 26, loss 0.00582447974011302\n",
      "epoch 27, loss 0.005759454797953367\n",
      "epoch 28, loss 0.005695142317563295\n",
      "epoch 29, loss 0.0056315273977816105\n",
      "epoch 30, loss 0.005568619351834059\n",
      "epoch 31, loss 0.005506440531462431\n",
      "epoch 32, loss 0.005444969516247511\n",
      "epoch 33, loss 0.005384167190641165\n",
      "epoch 34, loss 0.005324041470885277\n",
      "epoch 35, loss 0.005264613777399063\n",
      "epoch 36, loss 0.005205795634537935\n",
      "epoch 37, loss 0.005147670861333609\n",
      "epoch 38, loss 0.005090196151286364\n",
      "epoch 39, loss 0.005033332854509354\n",
      "epoch 40, loss 0.004977142903953791\n",
      "epoch 41, loss 0.004921548534184694\n",
      "epoch 42, loss 0.004866588860750198\n",
      "epoch 43, loss 0.004812241066247225\n",
      "epoch 44, loss 0.004758511204272509\n",
      "epoch 45, loss 0.004705376457422972\n",
      "epoch 46, loss 0.004652828443795443\n",
      "epoch 47, loss 0.004600859247148037\n",
      "epoch 48, loss 0.004549500998109579\n",
      "epoch 49, loss 0.004498685710132122\n",
      "epoch 50, loss 0.004448477644473314\n",
      "epoch 51, loss 0.004398800898343325\n",
      "epoch 52, loss 0.0043496862053871155\n",
      "epoch 53, loss 0.004301088396459818\n",
      "epoch 54, loss 0.00425306661054492\n",
      "epoch 55, loss 0.004205559380352497\n",
      "epoch 56, loss 0.004158631432801485\n",
      "epoch 57, loss 0.004112193826586008\n",
      "epoch 58, loss 0.004066258203238249\n",
      "epoch 59, loss 0.0040208701975643635\n",
      "epoch 60, loss 0.003975959494709969\n",
      "epoch 61, loss 0.003931552637368441\n",
      "epoch 62, loss 0.0038876542821526527\n",
      "epoch 63, loss 0.0038442551158368587\n",
      "epoch 64, loss 0.003801320679485798\n",
      "epoch 65, loss 0.003758866572752595\n",
      "epoch 66, loss 0.003716890001669526\n",
      "epoch 67, loss 0.003675393760204315\n",
      "epoch 68, loss 0.0036343643441796303\n",
      "epoch 69, loss 0.003593769622966647\n",
      "epoch 70, loss 0.003553620772436261\n",
      "epoch 71, loss 0.003513926174491644\n",
      "epoch 72, loss 0.0034747072495520115\n",
      "epoch 73, loss 0.003435879247263074\n",
      "epoch 74, loss 0.003397527150809765\n",
      "epoch 75, loss 0.0033595904242247343\n",
      "epoch 76, loss 0.0033221000339835882\n",
      "epoch 77, loss 0.0032849744893610477\n",
      "epoch 78, loss 0.0032482952810823917\n",
      "epoch 79, loss 0.0032120279502123594\n",
      "epoch 80, loss 0.0031761459540575743\n",
      "epoch 81, loss 0.0031407021451741457\n",
      "epoch 82, loss 0.003105610841885209\n",
      "epoch 83, loss 0.0030709162820130587\n",
      "epoch 84, loss 0.0030366533901542425\n",
      "epoch 85, loss 0.0030027253087610006\n",
      "epoch 86, loss 0.0029691806994378567\n",
      "epoch 87, loss 0.0029360561165958643\n",
      "epoch 88, loss 0.0029032453894615173\n",
      "epoch 89, loss 0.0028708295430988073\n",
      "epoch 90, loss 0.002838765736669302\n",
      "epoch 91, loss 0.0028070842381566763\n",
      "epoch 92, loss 0.002775726607069373\n",
      "epoch 93, loss 0.00274473475292325\n",
      "epoch 94, loss 0.00271409610286355\n",
      "epoch 95, loss 0.002683775732293725\n",
      "epoch 96, loss 0.0026538006495684385\n",
      "epoch 97, loss 0.0026241650339215994\n",
      "epoch 98, loss 0.002594871912151575\n",
      "epoch 99, loss 0.0025658863596618176\n",
      "epoch 100, loss 0.002537231193855405\n"
     ]
    }
   ],
   "source": [
    "import torch\n",
    "import torch.nn as nn\n",
    "from torch.autograd import Variable\n",
    "\n",
    "'''\n",
    "STEP 1: CREATE MODEL CLASS\n",
    "'''\n",
    "class LinearRegressionModel(nn.Module):\n",
    "\n",
    "    def __init__(self, input_size, output_size):\n",
    "        super(LinearRegressionModel, self).__init__()\n",
    "        self.linear = nn.Linear(input_size, output_size)\n",
    "\n",
    "    def forward(self, x):\n",
    "        out = self.linear(x)\n",
    "        return out\n",
    "\n",
    "'''\n",
    "STEP 2: INSTANTIATE MODEL CLASS\n",
    "'''\n",
    "input_size = 1\n",
    "output_size = 1\n",
    "\n",
    "model = LinearRegressionModel(input_size, output_size)\n",
    "\n",
    "'''\n",
    "STEP 3: INSTANTIATE LOSS CLASS\n",
    "'''\n",
    "\n",
    "criterion = nn.MSELoss()\n",
    "\n",
    "'''\n",
    "STEP 4: INSTANTIATE OPTIMIZER CLASS\n",
    "'''\n",
    "\n",
    "learning_rate = 0.01\n",
    "\n",
    "optimizer = torch.optim.SGD(model.parameters(), lr=learning_rate)\n",
    "\n",
    "'''\n",
    "STEP 5: TRAIN THE MODEL\n",
    "'''\n",
    "for epoch in range(1, epochs+1):\n",
    "    \n",
    "    # Convert numpy array to torch Variable\n",
    "    inputs = Variable(torch.from_numpy(x_train))\n",
    "    labels = Variable(torch.from_numpy(y_train))\n",
    "    \n",
    "    # Clear gradients w.r.t. parameters\n",
    "    optimizer.zero_grad()\n",
    "    \n",
    "    # Forward to get output\n",
    "    outputs = model(inputs)\n",
    "    \n",
    "    # Calculate Loss\n",
    "    loss = criterion(outputs, labels)\n",
    "    \n",
    "    # Getting gradients w.r.t. parameters\n",
    "    loss.backward()\n",
    "    \n",
    "    # Updating parameters\n",
    "    optimizer.step()\n",
    "    \n",
    "    print (f'epoch {epoch}, loss {loss.item()}')"
   ]
  },
  {
   "cell_type": "markdown",
   "metadata": {},
   "source": [
    "GPU: GPU를 켜 둬야 하는 두 가지\n",
    "- model\n",
    "- variables"
   ]
  },
  {
   "cell_type": "code",
   "execution_count": 90,
   "metadata": {},
   "outputs": [
    {
     "name": "stdout",
     "output_type": "stream",
     "text": [
      "epoch 1, loss 129.62646484375\n",
      "epoch 2, loss 10.608016967773438\n",
      "epoch 3, loss 0.8996660709381104\n",
      "epoch 4, loss 0.10740221291780472\n",
      "epoch 5, loss 0.042399823665618896\n",
      "epoch 6, loss 0.03672226518392563\n",
      "epoch 7, loss 0.03588761389255524\n",
      "epoch 8, loss 0.03545224294066429\n",
      "epoch 9, loss 0.03505358844995499\n",
      "epoch 10, loss 0.03466193377971649\n",
      "epoch 11, loss 0.034274812787771225\n",
      "epoch 12, loss 0.03389202430844307\n",
      "epoch 13, loss 0.03351353481411934\n",
      "epoch 14, loss 0.03313937410712242\n",
      "epoch 15, loss 0.032769303768873215\n",
      "epoch 16, loss 0.03240341693162918\n",
      "epoch 17, loss 0.03204149380326271\n",
      "epoch 18, loss 0.03168370947241783\n",
      "epoch 19, loss 0.03132999315857887\n",
      "epoch 20, loss 0.03098013997077942\n",
      "epoch 21, loss 0.03063408099114895\n",
      "epoch 22, loss 0.030291950330138206\n",
      "epoch 23, loss 0.029953746125102043\n",
      "epoch 24, loss 0.029619229957461357\n",
      "epoch 25, loss 0.02928854711353779\n",
      "epoch 26, loss 0.02896135300397873\n",
      "epoch 27, loss 0.02863803692162037\n",
      "epoch 28, loss 0.028318198397755623\n",
      "epoch 29, loss 0.028001977130770683\n",
      "epoch 30, loss 0.027689253911376\n",
      "epoch 31, loss 0.02738013118505478\n",
      "epoch 32, loss 0.02707434818148613\n",
      "epoch 33, loss 0.02677197940647602\n",
      "epoch 34, loss 0.026473013684153557\n",
      "epoch 35, loss 0.026177382096648216\n",
      "epoch 36, loss 0.02588510327041149\n",
      "epoch 37, loss 0.025595970451831818\n",
      "epoch 38, loss 0.025310182943940163\n",
      "epoch 39, loss 0.025027621537446976\n",
      "epoch 40, loss 0.024748027324676514\n",
      "epoch 41, loss 0.02447172813117504\n",
      "epoch 42, loss 0.02419840544462204\n",
      "epoch 43, loss 0.023928266018629074\n",
      "epoch 44, loss 0.023661063984036446\n",
      "epoch 45, loss 0.023396825417876244\n",
      "epoch 46, loss 0.023135559633374214\n",
      "epoch 47, loss 0.02287721075117588\n",
      "epoch 48, loss 0.022621752694249153\n",
      "epoch 49, loss 0.02236917056143284\n",
      "epoch 50, loss 0.022119328379631042\n",
      "epoch 51, loss 0.021872367709875107\n",
      "epoch 52, loss 0.02162811905145645\n",
      "epoch 53, loss 0.021386494860053062\n",
      "epoch 54, loss 0.02114769071340561\n",
      "epoch 55, loss 0.020911555737257004\n",
      "epoch 56, loss 0.020678026601672173\n",
      "epoch 57, loss 0.02044714242219925\n",
      "epoch 58, loss 0.020218826830387115\n",
      "epoch 59, loss 0.019993066787719727\n",
      "epoch 60, loss 0.019769752398133278\n",
      "epoch 61, loss 0.019548991695046425\n",
      "epoch 62, loss 0.019330698996782303\n",
      "epoch 63, loss 0.01911487616598606\n",
      "epoch 64, loss 0.018901392817497253\n",
      "epoch 65, loss 0.01869029738008976\n",
      "epoch 66, loss 0.018481634557247162\n",
      "epoch 67, loss 0.01827520877122879\n",
      "epoch 68, loss 0.018071213737130165\n",
      "epoch 69, loss 0.017869368195533752\n",
      "epoch 70, loss 0.017669813707470894\n",
      "epoch 71, loss 0.01747247576713562\n",
      "epoch 72, loss 0.017277367413043976\n",
      "epoch 73, loss 0.01708447001874447\n",
      "epoch 74, loss 0.016893642023205757\n",
      "epoch 75, loss 0.01670502871274948\n",
      "epoch 76, loss 0.01651849038898945\n",
      "epoch 77, loss 0.01633402518928051\n",
      "epoch 78, loss 0.016151634976267815\n",
      "epoch 79, loss 0.01597120240330696\n",
      "epoch 80, loss 0.015792852267622948\n",
      "epoch 81, loss 0.015616562217473984\n",
      "epoch 82, loss 0.015442161820828915\n",
      "epoch 83, loss 0.015269688330590725\n",
      "epoch 84, loss 0.01509921345859766\n",
      "epoch 85, loss 0.014930608682334423\n",
      "epoch 86, loss 0.01476388517767191\n",
      "epoch 87, loss 0.014599011279642582\n",
      "epoch 88, loss 0.014435943216085434\n",
      "epoch 89, loss 0.014274772256612778\n",
      "epoch 90, loss 0.014115341939032078\n",
      "epoch 91, loss 0.013957769609987736\n",
      "epoch 92, loss 0.013801815919578075\n",
      "epoch 93, loss 0.01364777609705925\n",
      "epoch 94, loss 0.01349536795169115\n",
      "epoch 95, loss 0.013344651088118553\n",
      "epoch 96, loss 0.013195580802857876\n",
      "epoch 97, loss 0.013048281893134117\n",
      "epoch 98, loss 0.012902543880045414\n",
      "epoch 99, loss 0.012758448719978333\n",
      "epoch 100, loss 0.012616032734513283\n"
     ]
    }
   ],
   "source": [
    "import torch\n",
    "import torch.nn as nn\n",
    "from torch.autograd import Variable\n",
    "\n",
    "'''\n",
    "STEP 1: CREATE MODEL CLASS\n",
    "'''\n",
    "class LinearRegressionModel(nn.Module):\n",
    "\n",
    "    def __init__(self, input_size, output_size):\n",
    "        super(LinearRegressionModel, self).__init__()\n",
    "        self.linear = nn.Linear(input_size, output_size)\n",
    "\n",
    "    def forward(self, x):\n",
    "        out = self.linear(x)\n",
    "        return out\n",
    "\n",
    "'''\n",
    "STEP 2: INSTANTIATE MODEL CLASS\n",
    "'''\n",
    "input_size = 1\n",
    "output_size = 1\n",
    "\n",
    "model = LinearRegressionModel(input_size, output_size)\n",
    "\n",
    "#####################\n",
    "# USE GPU FOR MODEL #\n",
    "#####################\n",
    "\n",
    "if torch.cuda.is_available():\n",
    "    model.cuda()\n",
    "\n",
    "'''\n",
    "STEP 3: INSTANTIATE LOSS CLASS\n",
    "'''\n",
    "\n",
    "criterion = nn.MSELoss()\n",
    "\n",
    "'''\n",
    "STEP 4: INSTANTIATE OPTIMIZER CLASS\n",
    "'''\n",
    "\n",
    "learning_rate = 0.01\n",
    "\n",
    "optimizer = torch.optim.SGD(model.parameters(), lr=learning_rate)\n",
    "\n",
    "'''\n",
    "STEP 5: TRAIN THE MODEL\n",
    "'''\n",
    "for epoch in range(1, epochs+1):\n",
    "    \n",
    "    # Convert numpy array to torch Variable\n",
    "    \n",
    "    #####################\n",
    "    # USE GPU FOR MODEL #\n",
    "    #####################\n",
    "    \n",
    "    if torch.cuda.is_available():\n",
    "        \n",
    "        inputs = Variable(torch.from_numpy(x_train).cuda())\n",
    "        labels = Variable(torch.from_numpy(y_train).cuda())\n",
    "    \n",
    "    else:\n",
    "    \n",
    "        inputs = Variable(torch.from_numpy(x_train))\n",
    "        labels = Variable(torch.from_numpy(y_train))\n",
    "    \n",
    "    # Clear gradients w.r.t. parameters\n",
    "    optimizer.zero_grad()\n",
    "    \n",
    "    # Forward to get output\n",
    "    outputs = model(inputs)\n",
    "    \n",
    "    # Calculate Loss\n",
    "    loss = criterion(outputs, labels)\n",
    "    \n",
    "    # Getting gradients w.r.t. parameters\n",
    "    loss.backward()\n",
    "    \n",
    "    # Updating parameters\n",
    "    optimizer.step()\n",
    "    \n",
    "    print (f'epoch {epoch}, loss {loss.item()}')"
   ]
  },
  {
   "cell_type": "markdown",
   "metadata": {},
   "source": [
    "# 요약"
   ]
  },
  {
   "cell_type": "markdown",
   "metadata": {},
   "source": [
    "- 단순 **회귀 분석 기초**\n",
    "    - $y = Ax + B$\n",
    "    - $y = 2x + 1$\n",
    "- 단순 회귀 분석의 **예**\n",
    "- 회귀 분석의 **예**\n",
    "    - 각 점들과 선의 사이의 거리를 최소화\n",
    "        - MSE를 통해 \"거리\" 계산\n",
    "        - 그라디언트들 계산\n",
    "        - 파라미터들을 통해 파라미터들 업데이트 = 파라미터들 - 학습률 * 그라디언트들\n",
    "        - 파라미터 A와 B를 천천히 업데이트한다. y = 2x + 1 형태를 갖는 y와 x 사이의 선형 관계를 모델링 한다\n",
    "- 선형 회귀분석 모델 생성 **모델**, **CPU와 GPU**의 경우\n",
    "    - Step 1: 모델 클래스 생성\n",
    "    - Step 2: 모델 클래스 인스턴스화\n",
    "    - Step 3: 손실 클래스 인스턴스화\n",
    "    - Step 4: 최적화 클래스 인스턴스화\n",
    "    - Step 5: 모델 학습시키기\n",
    "- **GPU** 옵션에서 켜져 있어야 할 것\n",
    "    - model\n",
    "    - variables\n",
    "- **GPU** 사용법?\n",
    "    - model_name.cuda()\n",
    "    - variable_name.cuda()"
   ]
  }
 ],
 "metadata": {
  "kernelspec": {
   "display_name": "Python 3",
   "language": "python",
   "name": "python3"
  },
  "language_info": {
   "codemirror_mode": {
    "name": "ipython",
    "version": 3
   },
   "file_extension": ".py",
   "mimetype": "text/x-python",
   "name": "python",
   "nbconvert_exporter": "python",
   "pygments_lexer": "ipython3",
   "version": "3.6.4"
  }
 },
 "nbformat": 4,
 "nbformat_minor": 2
}
